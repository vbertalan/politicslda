{
 "cells": [
  {
   "cell_type": "code",
   "execution_count": 6,
   "metadata": {},
   "outputs": [],
   "source": [
    "import gensim\n",
    "\n",
    "# CARREGA MODELO DO LDA\n",
    "\n",
    "lda = gensim.models.LdaModel.load('lda_direita')"
   ]
  },
  {
   "cell_type": "code",
   "execution_count": 31,
   "metadata": {},
   "outputs": [
    {
     "data": {
      "text/plain": [
       "[(0,\n",
       "  '0.095*\"–\" + 0.021*\"mpsp\" + 0.017*\"h\" + 0.008*\"praça\" + 0.005*\"josé\" + 0.005*\"silva\" + 0.004*\"─\" + 0.004*\"maria\" + 0.003*\"bancoop\" + 0.003*\"oas\" + 0.003*\"oliveira\" + 0.003*\"paulo\" + 0.003*\"fls\" + 0.003*\"joão\" + 0.003*\"r\" + 0.002*\"carlos\" + 0.002*\"pinheiro\" + 0.002*\"luiz\" + 0.002*\"ana\" + 0.002*\"filho\"'),\n",
       " (1,\n",
       "  '0.015*\"twitter\" + 0.013*\"pic\" + 0.008*\"the\" + 0.008*\"reaconaria\" + 0.008*\"feliciano\" + 0.007*\"https\" + 0.007*\"t\" + 0.006*\"março\" + 0.005*\"novembro\" + 0.005*\"reaçonaria\" + 0.004*\"of\" + 0.004*\"fevereiro\" + 0.004*\"email\" + 0.004*\"to\" + 0.004*\"—\" + 0.003*\"deputado\" + 0.003*\"in\" + 0.003*\"patrícia\" + 0.003*\"site\" + 0.003*\"and\"'),\n",
       " (2,\n",
       "  '0.035*\"https\" + 0.024*\"www\" + 0.022*\"facebook\" + 0.018*\"twitter\" + 0.013*\"–\" + 0.008*\"dep\" + 0.007*\"leg\" + 0.007*\"fax\" + 0.006*\"fone\" + 0.006*\"anexo\" + 0.005*\"iv\" + 0.005*\"brhttps\" + 0.004*\"pmdb\" + 0.002*\"kermit\" + 0.002*\"pr\" + 0.002*\"psd\" + 0.002*\"gosnell\" + 0.002*\"pp\" + 0.002*\"lilian\" + 0.002*\"tintori\"'),\n",
       " (3,\n",
       "  '0.026*\"email\" + 0.014*\"site\" + 0.014*\"nome\" + 0.013*\"campos\" + 0.013*\"comentário\" + 0.013*\"publicado\" + 0.013*\"endereço\" + 0.013*\"marcados\" + 0.013*\"obrigatórios\" + 0.011*\"presidente\" + 0.011*\"temer\" + 0.010*\"psdb\" + 0.009*\"é\" + 0.009*\"pt\" + 0.008*\"maíra\" + 0.008*\"impeachment\" + 0.008*\"dilma\" + 0.007*\"partido\" + 0.007*\"câmara\" + 0.007*\"revisado\"'),\n",
       " (4,\n",
       "  '0.009*\"marcha\" + 0.008*\"br\" + 0.006*\"leg\" + 0.006*\"la\" + 0.004*\"liberdade\" + 0.004*\"gênero\" + 0.003*\"el\" + 0.003*\"ideologia\" + 0.003*\"en\" + 0.003*\"educação\" + 0.003*\"gov\" + 0.003*\"df\" + 0.002*\"y\" + 0.002*\"del\" + 0.002*\"dep\" + 0.001*\"plano\" + 0.001*\"http\" + 0.001*\"françois\" + 0.001*\"contos\" + 0.001*\"brasília\"'),\n",
       " (5,\n",
       "  '0.014*\"é\" + 0.012*\"governo\" + 0.010*\"r\" + 0.007*\"email\" + 0.006*\"dilma\" + 0.006*\"mil\" + 0.005*\"brasil\" + 0.005*\"site\" + 0.004*\"nome\" + 0.004*\"milhões\" + 0.004*\"endereço\" + 0.004*\"publicado\" + 0.004*\"campos\" + 0.004*\"ano\" + 0.004*\"obrigatórios\" + 0.004*\"marcados\" + 0.004*\"presidente\" + 0.004*\"comentário\" + 0.003*\"pt\" + 0.003*\"anos\"'),\n",
       " (6,\n",
       "  '0.014*\"lula\" + 0.009*\"odebrecht\" + 0.009*\"federal\" + 0.007*\"dinheiro\" + 0.006*\"operação\" + 0.006*\"r\" + 0.006*\"é\" + 0.006*\"lava\" + 0.006*\"jato\" + 0.006*\"dilma\" + 0.005*\"expresidente\" + 0.005*\"milhões\" + 0.005*\"presidente\" + 0.005*\"campanha\" + 0.005*\"petrobras\" + 0.004*\"empresa\" + 0.004*\"delação\" + 0.004*\"público\" + 0.004*\"segundo\" + 0.004*\"email\"'),\n",
       " (7,\n",
       "  '0.029*\"é\" + 0.007*\"ser\" + 0.004*\"brasil\" + 0.004*\"contra\" + 0.004*\"–\" + 0.003*\"todos\" + 0.003*\"pt\" + 0.003*\"sobre\" + 0.003*\"tudo\" + 0.003*\"pessoas\" + 0.003*\"bem\" + 0.003*\"país\" + 0.003*\"pra\" + 0.003*\"ainda\" + 0.003*\"porque\" + 0.003*\"vai\" + 0.003*\"esquerda\" + 0.003*\"ter\" + 0.002*\"povo\" + 0.002*\"nada\"'),\n",
       " (8,\n",
       "  '0.010*\"lei\" + 0.010*\"–\" + 0.006*\"art\" + 0.005*\"ser\" + 0.004*\"país\" + 0.004*\"nacional\" + 0.004*\"º\" + 0.003*\"poder\" + 0.003*\"projeto\" + 0.003*\"estado\" + 0.003*\"constituição\" + 0.003*\"penal\" + 0.003*\"anos\" + 0.003*\"direito\" + 0.002*\"presidente\" + 0.002*\"pública\" + 0.002*\"artigo\" + 0.002*\"direitos\" + 0.002*\"—\" + 0.002*\"forças\"'),\n",
       " (9,\n",
       "  '0.017*\"lula\" + 0.014*\"é\" + 0.011*\"email\" + 0.007*\"nome\" + 0.006*\"site\" + 0.006*\"contra\" + 0.006*\"lava\" + 0.006*\"jato\" + 0.006*\"publicado\" + 0.006*\"comentário\" + 0.006*\"campos\" + 0.006*\"endereço\" + 0.006*\"marcados\" + 0.006*\"obrigatórios\" + 0.005*\"ser\" + 0.005*\"stf\" + 0.004*\"moro\" + 0.004*\"sobre\" + 0.004*\"federal\" + 0.004*\"renan\"')]"
      ]
     },
     "execution_count": 31,
     "metadata": {},
     "output_type": "execute_result"
    }
   ],
   "source": [
    "# MOSTRA OS TÓPICOS DO LDA\n",
    "\n",
    "lda.show_topics(num_topics=10, num_words=20, log=False, formatted=True)"
   ]
  },
  {
   "cell_type": "code",
   "execution_count": 35,
   "metadata": {},
   "outputs": [
    {
     "name": "stdout",
     "output_type": "stream",
     "text": [
      "[['benghazi', 'hillary', 'ataque', 'homens', 'nhocunha', 'segurança', 'cia', 'anexo', 'americanos', 'aldeia', 'cacique', 'clinton', 'complexo', 'washington', 'vídeo', 'copa', 'olimpíadas', 'cidade', 'vidas', 'seis'], ['é', 'trump', 'donald', 'ser', 'mundo', 'sobre', 'hillary', '–', 'clinton', 'américa', 'mídia', 'ainda', 'apenas', 'tão', 'todos', 'americana', 'americano', 'contra', 'hoje', 'estado'], ['é', 'ser', 'pt', 'dilma', '–', 'lula', 'apenas', 'esquerda', 'brasil', 'ainda', 'sobre', 'pode', 'país', 'poder', 'impeachment', 'ter', 'contra', 'pessoas', 'todos', 'qualquer'], ['é', 'ser', '–', 'mundo', 'apenas', 'sobre', 'pessoas', 'algo', 'ainda', 'pode', 'tão', 'contra', 'islamismo', 'todos', 'estupro', 'qualquer', 'tudo', 'sempre', 'hoje', 'estado'], ['é', '–', 'esquerda', 'ser', 'contra', 'sobre', 'apenas', 'ainda', 'todos', 'bolsonaro', 'pode', 'política', 'estado', 'brasil', 'público', 'menos', 'anos', 'poder', 'verdade', 'direita'], ['é', 'ser', '–', 'mundo', 'apenas', 'sobre', 'internet', 'sociedade', 'algo', 'livre', 'estado', 'sempre', 'ainda', 'pode', 'brasil', 'justamente', 'pessoas', 'país', 'poder', 'civil'], ['é', 'ser', 'twitter', '–', 'ainda', 'sobre', 'vida', 'apenas', 'pic', 'stf', 'mundo', '—', 'paz', 'algo', 'tudo', 'tão', 'pode', 'pessoas', 'caso', 'qualquer'], ['é', 'estado', 'islâmico', 'freixo', 'guerra', 'europa', 'erdoğan', 'lewandowski', 'turquia', 'califado', 'putin', 'une', 'síria', 'humanos', 'antes', 'ataque', 'charlie', 'of', 'atentado', 'isis'], ['é', '–', 'ser', 'esquerda', 'apenas', 'contra', 'sobre', 'política', 'partido', 'ainda', 'livro', 'democracia', 'poder', 'mundo', 'todos', 'maioria', 'dois', 'qualquer', 'caso', 'bem'], ['é', 'wyllys', 'jean', 'ser', 'pobreza', 'pessoas', 'mulher', 'fidel', 'então', 'literatura', 'nobel', '–', 'fazer', 'hoje', 'filme', 'qualquer', 'prêmio', 'diana', 'criminalidade', 'mundo']]\n"
     ]
    }
   ],
   "source": [
    "# CARREGA AS MAIS POPULARES X PALAVRAS PARA CADA UM DOS TÓPICOS\n",
    "\n",
    "x = 20\n",
    "\n",
    "top_words = [[word[0] for word in lda.show_topic(topicno, topn=x)] for topicno in range(lda.num_topics)]\n",
    "print(top_words)"
   ]
  },
  {
   "cell_type": "code",
   "execution_count": 36,
   "metadata": {},
   "outputs": [
    {
     "name": "stdout",
     "output_type": "stream",
     "text": [
      "LISTA DE TÓPICOS, COM SUAS PALAVRAS ASSOCIADAS\n",
      "0: benghazi hillary ataque homens nhocunha segurança cia anexo americanos aldeia\n",
      "1: é trump donald ser mundo sobre hillary – clinton américa\n",
      "2: é ser pt dilma – lula apenas esquerda brasil ainda\n",
      "3: é ser – mundo apenas sobre pessoas algo ainda pode\n",
      "4: é – esquerda ser contra sobre apenas ainda todos bolsonaro\n",
      "5: é ser – mundo apenas sobre internet sociedade algo livre\n",
      "6: é ser twitter – ainda sobre vida apenas pic stf\n",
      "7: é estado islâmico freixo guerra europa erdoğan lewandowski turquia califado\n",
      "8: é – ser esquerda apenas contra sobre política partido ainda\n",
      "9: é wyllys jean ser pobreza pessoas mulher fidel então literatura\n"
     ]
    }
   ],
   "source": [
    "import itertools\n",
    "import numpy as np\n",
    "\n",
    "# PEGA AS PALAVRAS MAIS FREQUENTES, EM UM CONJUNTO ÚNICO\n",
    "all_words = set(itertools.chain.from_iterable(top_words))\n",
    "\n",
    "print(\"LISTA DE TÓPICOS, COM SUAS PALAVRAS ASSOCIADAS\")\n",
    "\n",
    "for topicno, words in enumerate(top_words):\n",
    "    print(\"%i: %s\" % (topicno, ' '.join(words[:10])))"
   ]
  },
  {
   "cell_type": "code",
   "execution_count": 7,
   "metadata": {},
   "outputs": [],
   "source": [
    "import pyLDAvis.gensim\n",
    "import csv\n",
    "from gensim import corpora\n",
    "\n",
    "# CARREGA CORPUS\n",
    "with open(\"DIREITA\", newline=\"\\n\") as texto:\n",
    "    reader = csv.reader(texto, delimiter=\" \")\n",
    "    texto = []\n",
    "    for i in reader:\n",
    "        texto.append(i)"
   ]
  },
  {
   "cell_type": "code",
   "execution_count": 8,
   "metadata": {},
   "outputs": [],
   "source": [
    "# CRIA DICIONÁRIO E CORPUS PARA ANÁLISE GRÁFICA\n",
    "dicionario = corpora.Dictionary(texto)\n",
    "corpus = [dicionario.doc2bow(doc) for doc in texto]"
   ]
  },
  {
   "cell_type": "code",
   "execution_count": null,
   "metadata": {},
   "outputs": [],
   "source": [
    "# CARREGA ANÁLISE GRÁFICA\n",
    "vis_data = pyLDAvis.gensim.prepare(lda, corpus, dicionario)"
   ]
  },
  {
   "cell_type": "code",
   "execution_count": 5,
   "metadata": {},
   "outputs": [],
   "source": [
    "# SALVA EM ARQUIVO HTML OU MOSTRA OS DADOS GRÁFICOS\n",
    "pyLDAvis.save_html(vis_data, 'dadosLDAdireita.html')\n",
    "#pyLDAvis.display(vis_data)"
   ]
  }
 ],
 "metadata": {
  "kernelspec": {
   "display_name": "Python 3",
   "language": "python",
   "name": "python3"
  },
  "language_info": {
   "codemirror_mode": {
    "name": "ipython",
    "version": 3
   },
   "file_extension": ".py",
   "mimetype": "text/x-python",
   "name": "python",
   "nbconvert_exporter": "python",
   "pygments_lexer": "ipython3",
   "version": "3.6.8"
  }
 },
 "nbformat": 4,
 "nbformat_minor": 2
}
